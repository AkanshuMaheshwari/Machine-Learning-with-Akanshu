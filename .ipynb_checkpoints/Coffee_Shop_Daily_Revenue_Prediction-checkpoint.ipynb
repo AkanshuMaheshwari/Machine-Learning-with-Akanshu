{
 "cells": [
  {
   "cell_type": "code",
   "execution_count": null,
   "id": "5bc6109b-74ca-460c-a1d3-e2607d64e68d",
   "metadata": {},
   "outputs": [],
   "source": [
    "# Import necessary libraries\n",
    "import pandas as pd\n",
    "import numpy as np\n",
    "import matplotlib.pyplot as plt\n",
    "from sklearn.preprocessing import StandardScaler\n",
    "from sklearn.model_selection import train_test_split\n",
    "from sklearn.linear_model import LinearRegression\n",
    "#from sklearn.metrics import root_mean_squared_error\n",
    "from sklearn.metrics import mean_squared_error"
   ]
  },
  {
   "cell_type": "code",
   "execution_count": null,
   "id": "c09954bb-d8ec-4b03-b298-bdc6fb7025de",
   "metadata": {},
   "outputs": [],
   "source": [
    "df = pd.read_csv('coffee_shop_revenue.csv')"
   ]
  },
  {
   "cell_type": "code",
   "execution_count": null,
   "id": "7fe7deb4-9881-4d0b-a909-fc5bce5a4121",
   "metadata": {},
   "outputs": [],
   "source": [
    "df.head(2)"
   ]
  },
  {
   "cell_type": "code",
   "execution_count": null,
   "id": "2535ca21-59ec-4bf2-b86d-266c5d3dfcb8",
   "metadata": {},
   "outputs": [],
   "source": [
    "df.describe()"
   ]
  },
  {
   "cell_type": "code",
   "execution_count": null,
   "id": "146fb4ae-5245-47c3-a00b-62bb6c3f45db",
   "metadata": {},
   "outputs": [],
   "source": [
    "df.shape"
   ]
  },
  {
   "cell_type": "code",
   "execution_count": null,
   "id": "f4df4b7b-1aeb-4702-a5da-2439f30a3faa",
   "metadata": {},
   "outputs": [],
   "source": [
    "df.isnull().sum()"
   ]
  },
  {
   "cell_type": "code",
   "execution_count": null,
   "id": "641bf58b-24ed-43dd-8615-ef1787458a8b",
   "metadata": {},
   "outputs": [],
   "source": [
    "#df[''].corr()"
   ]
  },
  {
   "cell_type": "code",
   "execution_count": null,
   "id": "5ab5212a-927d-4e46-9738-1e67a4f809bb",
   "metadata": {},
   "outputs": [],
   "source": [
    "## used to plot Multiple Graphs\n",
    "figure, axis = plt.subplots(3, 2) \n",
    "axis[0, 0].scatter(df[\"Number_of_Customers_Per_Day\"],df[\"Daily_Revenue\"])\n",
    "axis[0, 0].set_title(\"Customer day VS Revenue\")\n",
    "axis[0, 1].scatter(df[\"Average_Order_Value\"],df[\"Daily_Revenue\"])\n",
    "axis[1, 0].scatter(df[\"Operating_Hours_Per_Day\"],np.sqrt(df[\"Daily_Revenue\"]))\n",
    "axis[1, 1].scatter(df[\"Number_of_Employees\"],df[\"Daily_Revenue\"])\n",
    "axis[2, 0].scatter(df[\"Marketing_Spend_Per_Day\"],df[\"Daily_Revenue\"])\n",
    "axis[2, 1].scatter(df[\"Location_Foot_Traffic\"],df[\"Daily_Revenue\"])\n",
    "plt.show()\n"
   ]
  },
  {
   "cell_type": "code",
   "execution_count": null,
   "id": "592c1098-6dab-4752-ac30-2c02ac8d1e2d",
   "metadata": {},
   "outputs": [],
   "source": [
    "##indedependent vairables shuould be independent of each other , So check COV if any X features are correlated\n",
    "df.corr()"
   ]
  },
  {
   "cell_type": "markdown",
   "id": "457302f3-db8b-484b-8859-3a8d5c0aaf33",
   "metadata": {},
   "source": [
    "## So now we have seen from above correlation there is no features which are correlated . So we are good from First assumption of Linear Regression . But we \n",
    "## Have also seen some features are not correlated with target Variable means they are not giving any information to predict target Variable(DAILY_reveue). So we will drop those features"
   ]
  },
  {
   "cell_type": "code",
   "execution_count": null,
   "id": "449d8dac-fa5e-41c8-90da-a02cfa76cda4",
   "metadata": {},
   "outputs": [],
   "source": [
    "## Drop features\n",
    "df.drop(columns=[\"Operating_Hours_Per_Day\",\"Number_of_Employees\",\"Location_Foot_Traffic\"],inplace=True)"
   ]
  },
  {
   "cell_type": "code",
   "execution_count": null,
   "id": "eb0e82e2-9a91-45bf-82d4-f1c579d58676",
   "metadata": {},
   "outputs": [],
   "source": [
    "df.shape"
   ]
  },
  {
   "cell_type": "code",
   "execution_count": null,
   "id": "9337ef0e-fefa-4a1a-84e5-8a2543badeec",
   "metadata": {},
   "outputs": [],
   "source": [
    "figure, axis = plt.subplots(3, 2)\n",
    "axis[0, 0].scatter(df[\"Number_of_Customers_Per_Day\"],df[\"Daily_Revenue\"])\n",
    "axis[0, 0].set_title(\"Customer day VS Revenue\")\n",
    "axis[1, 0].scatter(df[\"Average_Order_Value\"],df[\"Daily_Revenue\"])\n",
    "axis[2, 0].scatter(df[\"Marketing_Spend_Per_Day\"],df[\"Daily_Revenue\"])\n",
    "plt.show()"
   ]
  },
  {
   "cell_type": "code",
   "execution_count": null,
   "id": "5421eba4-80d5-489f-9f87-b9211f95b051",
   "metadata": {},
   "outputs": [],
   "source": [
    "df.corr()"
   ]
  },
  {
   "cell_type": "code",
   "execution_count": null,
   "id": "a9cee47c-da30-48ef-ac63-fc94f1329c36",
   "metadata": {},
   "outputs": [],
   "source": [
    "## Check outlier if Any\n",
    "figure, axis = plt.subplots(3, 2)\n",
    "axis[0, 0].boxplot(df[\"Number_of_Customers_Per_Day\"])\n",
    "axis[0, 0].set_title(\"Customer day\")\n",
    "axis[1, 0].boxplot(df[\"Average_Order_Value\"])\n",
    "axis[2, 0].boxplot(df[\"Marketing_Spend_Per_Day\"])\n",
    "plt.show()"
   ]
  },
  {
   "cell_type": "code",
   "execution_count": null,
   "id": "d5f7f466-30ca-43ec-be04-659b683aa64d",
   "metadata": {},
   "outputs": [],
   "source": []
  },
  {
   "cell_type": "code",
   "execution_count": null,
   "id": "a16b41ce-1ceb-4b33-85c2-a2b1612c5e14",
   "metadata": {},
   "outputs": [],
   "source": [
    "X = df.drop(columns=[\"Daily_Revenue\"])\n",
    "Y =  df[\"Daily_Revenue\"]"
   ]
  },
  {
   "cell_type": "code",
   "execution_count": null,
   "id": "78ea0994-de9b-490d-8feb-2bb7a30a4d4c",
   "metadata": {},
   "outputs": [],
   "source": [
    "## Spliting The data into test and train\n",
    "X_train,X_test, Y_train,Y_test = train_test_split(X,Y,test_size=0.3,random_state=10)"
   ]
  },
  {
   "cell_type": "code",
   "execution_count": null,
   "id": "4433bbdc-6857-4ead-8f3a-bd7b9a4caf17",
   "metadata": {},
   "outputs": [],
   "source": [
    "X_train.shape"
   ]
  },
  {
   "cell_type": "code",
   "execution_count": null,
   "id": "a4e38f58-2740-4561-92d4-c9922ede37ac",
   "metadata": {},
   "outputs": [],
   "source": [
    "X_test.shape"
   ]
  },
  {
   "cell_type": "code",
   "execution_count": null,
   "id": "78a4f6a8-3e3f-4695-a6e9-91fb946acf40",
   "metadata": {},
   "outputs": [],
   "source": [
    "## Scalaing of X features\n",
    "sc = StandardScaler()\n",
    "X_train_scaled= sc.fit_transform(X_train)\n",
    "X_test_scaled = sc.transform(X_test)"
   ]
  },
  {
   "cell_type": "code",
   "execution_count": null,
   "id": "d2cd28eb-3d33-42d9-b47c-6a192e0cda7f",
   "metadata": {},
   "outputs": [],
   "source": [
    "X_train_scaled[1]"
   ]
  },
  {
   "cell_type": "code",
   "execution_count": null,
   "id": "217fc212-5915-4b3a-9291-915291bfd86c",
   "metadata": {},
   "outputs": [],
   "source": [
    "### Import Linear Regression\n",
    "lm = LinearRegression()"
   ]
  },
  {
   "cell_type": "code",
   "execution_count": null,
   "id": "1d19fe9f-fdfb-40fd-b354-3c0f8f3f218a",
   "metadata": {},
   "outputs": [],
   "source": [
    "## training Model on training dataset\n",
    "lm.fit(X_train_scaled,Y_train)"
   ]
  },
  {
   "cell_type": "code",
   "execution_count": null,
   "id": "666d271f-4bd3-4572-8376-228521e7f364",
   "metadata": {},
   "outputs": [],
   "source": [
    "## prediction on test using above trained model\n",
    "y_pred = lm.predict(X_test_scaled)"
   ]
  },
  {
   "cell_type": "code",
   "execution_count": null,
   "id": "0c085ae1-1d76-4a61-a4e2-aea5a70123eb",
   "metadata": {},
   "outputs": [],
   "source": []
  },
  {
   "cell_type": "code",
   "execution_count": null,
   "id": "d1874e97-2b46-424c-af48-1dd769c38a34",
   "metadata": {},
   "outputs": [],
   "source": [
    "## Calculate MSE\n",
    "error = mean_squared_error(Y_test,y_pred)"
   ]
  },
  {
   "cell_type": "code",
   "execution_count": null,
   "id": "dcf4d225-8a19-4940-8c99-98423f326e64",
   "metadata": {},
   "outputs": [],
   "source": [
    "error"
   ]
  },
  {
   "cell_type": "code",
   "execution_count": null,
   "id": "49bc3ce2-7f8f-44fb-a3bc-ca1ee76a9b7e",
   "metadata": {},
   "outputs": [],
   "source": [
    "## Manual Calculation for MSE\n",
    "np.sum(( Y_test - y_pred )**2) / 600"
   ]
  },
  {
   "cell_type": "code",
   "execution_count": null,
   "id": "3aa22266-35c5-42e9-b192-5e86f4ab74ef",
   "metadata": {},
   "outputs": [],
   "source": [
    "## Saving a Model as joblib File\n",
    "import joblib \n",
    "with open(\"LinearRegression.joblib\",\"wb\") as file:\n",
    "    joblib.dump(lm,file)"
   ]
  },
  {
   "cell_type": "code",
   "execution_count": null,
   "id": "d535e997-791e-4292-a6e1-161281aad50b",
   "metadata": {},
   "outputs": [],
   "source": [
    "## Load the trained Model for Prediction\n",
    "import_lm = joblib.load(\"LinearRegression.joblib\")"
   ]
  },
  {
   "cell_type": "code",
   "execution_count": null,
   "id": "dd36a36b-5ab3-4e7f-baa3-72615a876177",
   "metadata": {},
   "outputs": [],
   "source": [
    "## Calling trained model on new Data for Revenue Prediction\n",
    "print(f\"Daily Reveue predicted by our Linear Model for given data is :{import_lm.predict([[152,6.2,100.5]])[0]}\")"
   ]
  },
  {
   "cell_type": "code",
   "execution_count": null,
   "id": "ef823764-7eec-4016-9361-a9973c308eab",
   "metadata": {},
   "outputs": [],
   "source": []
  }
 ],
 "metadata": {
  "kernelspec": {
   "display_name": "Python 3 (ipykernel)",
   "language": "python",
   "name": "python3"
  },
  "language_info": {
   "codemirror_mode": {
    "name": "ipython",
    "version": 3
   },
   "file_extension": ".py",
   "mimetype": "text/x-python",
   "name": "python",
   "nbconvert_exporter": "python",
   "pygments_lexer": "ipython3",
   "version": "3.12.7"
  }
 },
 "nbformat": 4,
 "nbformat_minor": 5
}
