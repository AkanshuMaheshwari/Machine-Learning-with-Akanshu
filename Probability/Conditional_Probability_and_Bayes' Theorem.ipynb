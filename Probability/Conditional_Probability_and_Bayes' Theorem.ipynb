{
 "cells": [
  {
   "cell_type": "markdown",
   "id": "6fe13dd6-b34e-4ec7-8177-a79a672c7eca",
   "metadata": {},
   "source": [
    "## Conditional Probability and Bayes' Theorem\n",
    "\n",
    "##### 3. A bag contains 5 red, 7 green, and 8 blue balls. A ball is drawn randomly, its color noted, and it is put back into the bag. If this process is repeated 1000 times, write a Python program to estimate:  \n",
    "  a. The probability of drawing a red ball given that the previous ball was blue.  \n",
    "  b. Verify Bayes' theorem with the simulation results.  \n",
    "\n",
    "Steps  \n",
    "    a. Use random sampling to simulate the process.  \n",
    "    b. Compute conditional probabilities directly from the data.  \n"
   ]
  },
  {
   "cell_type": "code",
   "execution_count": 4,
   "id": "3b02cc0e-7f83-4a46-9ef6-2525a3b747e2",
   "metadata": {},
   "outputs": [],
   "source": [
    "import random"
   ]
  },
  {
   "cell_type": "code",
   "execution_count": 8,
   "id": "e15e3a89-e79c-400a-ba7c-0f7439484545",
   "metadata": {},
   "outputs": [
    {
     "name": "stdout",
     "output_type": "stream",
     "text": [
      "Estimated P(Red | Blue): 0.2464\n",
      "Bayes' theorem verification: 0.2701\n"
     ]
    }
   ],
   "source": [
    "def ball_draws(trials= 1000):\n",
    "    \"\"\"\n",
    "    Simulates drawing a ball randomly from a bag containing 5 red, 7 green, and 8 blue balls.\n",
    "    Tracks occurrences to estimate the conditional probability of drawing a red ball given that the previous ball was blue.\n",
    "\n",
    "    Parameters:\n",
    "        trials (int): The number of draws to simulate. Default is 1000.\n",
    "    Returns:\n",
    "        None: Prints estimated conditional probability and verifies Bayes' theorem.\n",
    "    \"\"\"\n",
    "    colors = [\"Red\"] * 5 + [\"Green\"] * 7 + [\"Blue\"] * 8  # list representing all balls in the bag\n",
    "    previous_color = None\n",
    "    blue_count = 0\n",
    "    red_count = 0\n",
    "    red_after_blue_count = 0\n",
    "\n",
    "    for _ in range(trials):\n",
    "        drawn_color = random.choice(colors)   # randomly select a ball from the bag\n",
    "\n",
    "        # count occurances for probability estimation \n",
    "        if previous_color == \"Blue\":\n",
    "            blue_count += 1\n",
    "            if drawn_color == \"Red\":\n",
    "                red_after_blue_count += 1\n",
    "\n",
    "        if drawn_color == \"Red\":\n",
    "            red_count += 1\n",
    "\n",
    "        previous_color = drawn_color    # store the drawn color for the next iteration\n",
    "\n",
    "    # compute conditional probability P(Red | Blue)\n",
    "    prob_red_given_blue = red_after_blue_count / blue_count if blue_count > 0 else 0\n",
    "    prob_blue = 8/20 \n",
    "    prob_red = 5/20\n",
    "\n",
    "    # Verify Bayes' theorem: P(Red | Blue) = P(Blue | Red) * P(Red) / P(Blue)\n",
    "    prob_blue_given_red = red_after_blue_count / red_count if red_count > 0 else 0\n",
    "    bayes_value = (prob_blue_given_red * prob_red) / prob_blue if prob_blue > 0 else 0\n",
    "\n",
    "    # print results\n",
    "    print(f\"Estimated P(Red | Blue): {prob_red_given_blue:.4f}\")\n",
    "    print(f\"Bayes' theorem verification: {bayes_value:.4f}\")\n",
    "\n",
    "# run the function\n",
    "ball_draws()"
   ]
  },
  {
   "cell_type": "code",
   "execution_count": null,
   "id": "527dd84c-d563-4ecf-8c2d-1ac6afd4c9f5",
   "metadata": {},
   "outputs": [],
   "source": []
  }
 ],
 "metadata": {
  "kernelspec": {
   "display_name": "Python 3 (ipykernel)",
   "language": "python",
   "name": "python3"
  },
  "language_info": {
   "codemirror_mode": {
    "name": "ipython",
    "version": 3
   },
   "file_extension": ".py",
   "mimetype": "text/x-python",
   "name": "python",
   "nbconvert_exporter": "python",
   "pygments_lexer": "ipython3",
   "version": "3.12.7"
  }
 },
 "nbformat": 4,
 "nbformat_minor": 5
}
