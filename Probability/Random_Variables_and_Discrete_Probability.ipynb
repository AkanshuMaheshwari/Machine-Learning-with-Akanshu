{
 "cells": [
  {
   "cell_type": "markdown",
   "id": "1ba5bbb5-db17-4541-910e-4800b35cb082",
   "metadata": {},
   "source": [
    "## Random Variables and Discrete Probability\n",
    "\n",
    "##### 4. Generate a sample of size 1000 from a discrete random variable with the following distribution:  \n",
    "  - P(X=1) = 0.25  \n",
    "  - P(X=2) = 0.35  \n",
    "  - P(X=3) = 0.4  \n",
    "  Compute the empirical mean, variance, and standard deviation of the sample.  \n",
    "  Steps  \n",
    "      a. Use numpy.random.choice() to generate the sample.  \n",
    "      b. Use numpy methods to calculate mean, variance, and standard deviation.\n"
   ]
  },
  {
   "cell_type": "code",
   "execution_count": 2,
   "id": "18848882-dd19-415f-ac0a-82ba4936d00c",
   "metadata": {},
   "outputs": [],
   "source": [
    "import numpy as np"
   ]
  },
  {
   "cell_type": "code",
   "execution_count": 3,
   "id": "3a6f2a57-007e-4ef4-b641-49dd01b0542f",
   "metadata": {},
   "outputs": [
    {
     "name": "stdout",
     "output_type": "stream",
     "text": [
      "Sample first 10 values: [2 1 1 3 2 3 3 3 3 1 1 3 3 1 3 1 1 2 3 3]\n",
      "Sample size: 1000\n",
      "Empirical Mean: 2.1340\n",
      "Empirical Variance: 0.6360\n",
      "Empirical Standard Deviation: 0.7975\n"
     ]
    }
   ],
   "source": [
    "def sample_compute_stats(size = 1000):\n",
    "    values = [1,2,3]   # possible value of the random variable\n",
    "    probabilities = [0.25,0.35,0.4]    # corresponding probabilities\n",
    "\n",
    "    # generate random sample\n",
    "    sample = np.random.choice(values, size = size, p= probabilities)\n",
    "\n",
    "    #compute statistics\n",
    "    mean = np.mean(sample)\n",
    "    variance = np.var(sample)\n",
    "    std_dev = np.std(sample)\n",
    "\n",
    "    # Display the results\n",
    "    print (f\"Sample first 10 values: {sample[:20]}\")\n",
    "    print(f\"Sample size: {size}\")    \n",
    "    print(f\"Empirical Mean: {mean:.4f}\")\n",
    "    print(f\"Empirical Variance: {variance:.4f}\")\n",
    "    print(f\"Empirical Standard Deviation: {std_dev:.4f}\")\n",
    "\n",
    "# run the function\n",
    "sample_compute_stats()\n"
   ]
  },
  {
   "cell_type": "code",
   "execution_count": null,
   "id": "3a07aa25-16e4-48c5-8e13-fb0121b88563",
   "metadata": {},
   "outputs": [],
   "source": []
  }
 ],
 "metadata": {
  "kernelspec": {
   "display_name": "Python 3 (ipykernel)",
   "language": "python",
   "name": "python3"
  },
  "language_info": {
   "codemirror_mode": {
    "name": "ipython",
    "version": 3
   },
   "file_extension": ".py",
   "mimetype": "text/x-python",
   "name": "python",
   "nbconvert_exporter": "python",
   "pygments_lexer": "ipython3",
   "version": "3.12.7"
  }
 },
 "nbformat": 4,
 "nbformat_minor": 5
}
