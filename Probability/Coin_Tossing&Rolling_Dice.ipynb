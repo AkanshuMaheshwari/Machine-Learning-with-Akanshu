{
 "cells": [
  {
   "cell_type": "markdown",
   "id": "26b8b76e-632e-47ea-a9fe-d36687c94571",
   "metadata": {},
   "source": [
    "#### Write a Python program to simulate the following scenarios:\n",
    "a. Tossing a coin 10,000 times and calculating the experimental probability of heads and tails.\n",
    "Steps\n",
    "\n",
    "b. Rolling two dice and computing the probability of getting a sum of 7. \n",
    "\n",
    "    a. Use Python's random module for simulations.\n",
    "    b. Implement loops for repeated trials.\n",
    "    c. Track outcomes and compute probabilities."
   ]
  },
  {
   "cell_type": "code",
   "execution_count": 4,
   "id": "466517f0-27ed-4162-8e23-423c3ba6fd64",
   "metadata": {},
   "outputs": [],
   "source": [
    "import random"
   ]
  },
  {
   "cell_type": "code",
   "execution_count": 6,
   "id": "b4dad3cd-74bd-4c52-bbad-43535a305832",
   "metadata": {},
   "outputs": [
    {
     "name": "stdout",
     "output_type": "stream",
     "text": [
      "Coin Toss Simulation (10000 trials):\n",
      "Probability of Heads: 0.4970\n",
      "Probability of Tails: 0.5030\n",
      "\n",
      "Dice Roll Simulation (10000 trials):\n",
      "Probability of getting a sum of 7: 0.1594\n"
     ]
    }
   ],
   "source": [
    "\n",
    "def coin_toss_simulation(trials=10000):\n",
    "    \"\"\"\n",
    "    Simulates tossing a coin multiple times and calculates the probability of getting heads and tails.\n",
    "\n",
    "    Parameters:\n",
    "        trials (int): The number of times the coin is tossed. Default is 10,000.\n",
    "    Returns:\n",
    "        None: Prints the experimental probability of heads and tails.\n",
    "    \"\"\"\n",
    "    heads = 0\n",
    "    tails = 0\n",
    "    for _ in range(trials):\n",
    "        if random.choice([\"Heads\", \"Tails\"]) == \"Heads\":\n",
    "            heads += 1\n",
    "        else:\n",
    "            tails += 1\n",
    "    print(f\"Coin Toss Simulation ({trials} trials):\")\n",
    "    print(f\"Probability of Heads: {heads / trials:.4f}\")\n",
    "    print(f\"Probability of Tails: {tails / trials:.4f}\\n\")\n",
    "\n",
    "def dice_roll_simulation(trials=10000):\n",
    "    \"\"\"\n",
    "    Simulates rolling two six-sided dice multiple times and calculates the probability of getting a sum of 7.\n",
    "\n",
    "    Parameters:\n",
    "        trials (int): The number of times the dice are rolled. Default is 10,000.\n",
    "    Returns:\n",
    "        None: Prints the experimental probability of rolling a sum of 7.\n",
    "    \"\"\"\n",
    "    sum_count = 0\n",
    "    for _ in range(trials):\n",
    "        dice1 = random.randint(1, 6)\n",
    "        dice2 = random.randint(1, 6)\n",
    "        if dice1 + dice2 == 7:\n",
    "            sum_count += 1\n",
    "    print(f\"Dice Roll Simulation ({trials} trials):\")\n",
    "    print(f\"Probability of getting a sum of 7: {sum_count / trials:.4f}\")\n",
    "\n",
    "# Run simulations\n",
    "coin_toss_simulation()\n",
    "dice_roll_simulation()"
   ]
  },
  {
   "cell_type": "code",
   "execution_count": null,
   "id": "606366c7-7342-4b20-a622-f38143a3a830",
   "metadata": {},
   "outputs": [],
   "source": []
  }
 ],
 "metadata": {
  "kernelspec": {
   "display_name": "Python 3 (ipykernel)",
   "language": "python",
   "name": "python3"
  },
  "language_info": {
   "codemirror_mode": {
    "name": "ipython",
    "version": 3
   },
   "file_extension": ".py",
   "mimetype": "text/x-python",
   "name": "python",
   "nbconvert_exporter": "python",
   "pygments_lexer": "ipython3",
   "version": "3.12.7"
  }
 },
 "nbformat": 4,
 "nbformat_minor": 5
}
