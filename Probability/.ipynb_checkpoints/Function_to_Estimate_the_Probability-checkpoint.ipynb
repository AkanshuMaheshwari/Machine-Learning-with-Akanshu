{
 "cells": [
  {
   "cell_type": "markdown",
   "id": "8eac2354-bebb-4e17-a4c0-70917a7927d0",
   "metadata": {},
   "source": [
    "#### Write a function to estimate the probability of getting at least one \"6\" in 10 rolls of a fair die.¶\n",
    "\n",
    "Steps\n",
    "\n",
    "    a. Simulate rolling a die 10 times using a loop.\n",
    "    b. Track trials where at least one \"6\" occurs.\n",
    "    c. Calculate the proportion of successful trials."
   ]
  },
  {
   "cell_type": "code",
   "execution_count": 2,
   "id": "a97634cc-ac5c-4a95-91a5-7ae828d1c473",
   "metadata": {},
   "outputs": [],
   "source": [
    "import random"
   ]
  },
  {
   "cell_type": "code",
   "execution_count": 3,
   "id": "f79eb736-6c2a-4d6e-8f29-dc59c1f507c4",
   "metadata": {},
   "outputs": [
    {
     "name": "stdout",
     "output_type": "stream",
     "text": [
      "Estimate probability of getting at least one '6' in 10 rolls: 0.8378\n"
     ]
    }
   ],
   "source": [
    "def estimate__probability(trials = 10000):\n",
    "    \"\"\"\n",
    "    Estimates the probability of rolling at least one '6' in 10 rolls of a fair die.\n",
    "\n",
    "    Parameters:\n",
    "        trials (int): The number of simulated experiments. Default is 10,000.\n",
    "    Returns:\n",
    "        None: Prints the estimated probability of getting at least one '6'.\n",
    "    \"\"\"\n",
    "    success_count = 0 # tracks trails where at least one '6' occurs\n",
    "\n",
    "    for _ in range(trials):\n",
    "        rolls = [random.randint(1,6) for _ in range(10)]   # roll the dice 10 times\n",
    "        if 6 in rolls:    # check if at least '6' is present\n",
    "            success_count +=1\n",
    "\n",
    "    probability = success_count / trials\n",
    "    print(f\"Estimate probability of getting at least one '6' in 10 rolls: {probability:.4f}\")\n",
    "\n",
    "# run the simulation\n",
    "estimate__probability()"
   ]
  },
  {
   "cell_type": "code",
   "execution_count": null,
   "id": "3ca4bc53-c369-4f3f-8153-dfd78ea20b29",
   "metadata": {},
   "outputs": [],
   "source": []
  }
 ],
 "metadata": {
  "kernelspec": {
   "display_name": "Python 3 (ipykernel)",
   "language": "python",
   "name": "python3"
  },
  "language_info": {
   "codemirror_mode": {
    "name": "ipython",
    "version": 3
   },
   "file_extension": ".py",
   "mimetype": "text/x-python",
   "name": "python",
   "nbconvert_exporter": "python",
   "pygments_lexer": "ipython3",
   "version": "3.12.7"
  }
 },
 "nbformat": 4,
 "nbformat_minor": 5
}
