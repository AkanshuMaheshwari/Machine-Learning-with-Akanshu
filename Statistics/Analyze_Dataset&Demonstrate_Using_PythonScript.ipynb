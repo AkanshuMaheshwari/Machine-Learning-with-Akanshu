{
 "cells": [
  {
   "cell_type": "markdown",
   "id": "554cecff-81e3-42ba-8fef-e55a2247903f",
   "metadata": {},
   "source": [
    "##### Write a Python script to analyze a dataset and demonstrate:  \n",
    "  a. The impact of outliers on the mean, median, and mode.  \n",
    "  b. How these measures can be used to summarize data effectively.  \n",
    "  Steps  \n",
    "      a. Create a dataset with outliers.  \n",
    "      b. Calculate and compare the central tendency measures before and after outlier removal.  \n"
   ]
  },
  {
   "cell_type": "code",
   "execution_count": 1,
   "id": "706afa43-4a1b-4fd6-96ca-774fe04860e5",
   "metadata": {},
   "outputs": [],
   "source": [
    "import numpy as np\n",
    "import pandas as pd\n",
    "import matplotlib.pyplot as plt\n",
    "import seaborn as sns\n",
    "from scipy import stats"
   ]
  },
  {
   "cell_type": "code",
   "execution_count": 3,
   "id": "01fd1047-9938-4c3a-82a8-c64bf956ec83",
   "metadata": {},
   "outputs": [],
   "source": [
    "# Step 1: Create a dataset with outliers\n",
    "np.random.seed(42)\n",
    "normal_data = np.random.normal(loc=50, scale=10, size=100)\n",
    "outliers = np.array([150, 160, 170])  # extreme outliers\n",
    "data_with_outliers = np.concatenate((normal_data, outliers))\n",
    "\n",
    "# Convert to a pandas DataFrame for convenience\n",
    "df = pd.DataFrame(data_with_outliers, columns=['Value'])"
   ]
  },
  {
   "cell_type": "code",
   "execution_count": 5,
   "id": "3c60543b-01d1-49a6-96be-f549d2ef6dbf",
   "metadata": {},
   "outputs": [
    {
     "data": {
      "text/html": [
       "<div>\n",
       "<style scoped>\n",
       "    .dataframe tbody tr th:only-of-type {\n",
       "        vertical-align: middle;\n",
       "    }\n",
       "\n",
       "    .dataframe tbody tr th {\n",
       "        vertical-align: top;\n",
       "    }\n",
       "\n",
       "    .dataframe thead th {\n",
       "        text-align: right;\n",
       "    }\n",
       "</style>\n",
       "<table border=\"1\" class=\"dataframe\">\n",
       "  <thead>\n",
       "    <tr style=\"text-align: right;\">\n",
       "      <th></th>\n",
       "      <th>Value</th>\n",
       "    </tr>\n",
       "  </thead>\n",
       "  <tbody>\n",
       "    <tr>\n",
       "      <th>0</th>\n",
       "      <td>54.967142</td>\n",
       "    </tr>\n",
       "    <tr>\n",
       "      <th>1</th>\n",
       "      <td>48.617357</td>\n",
       "    </tr>\n",
       "    <tr>\n",
       "      <th>2</th>\n",
       "      <td>56.476885</td>\n",
       "    </tr>\n",
       "    <tr>\n",
       "      <th>3</th>\n",
       "      <td>65.230299</td>\n",
       "    </tr>\n",
       "    <tr>\n",
       "      <th>4</th>\n",
       "      <td>47.658466</td>\n",
       "    </tr>\n",
       "    <tr>\n",
       "      <th>...</th>\n",
       "      <td>...</td>\n",
       "    </tr>\n",
       "    <tr>\n",
       "      <th>98</th>\n",
       "      <td>50.051135</td>\n",
       "    </tr>\n",
       "    <tr>\n",
       "      <th>99</th>\n",
       "      <td>47.654129</td>\n",
       "    </tr>\n",
       "    <tr>\n",
       "      <th>100</th>\n",
       "      <td>150.000000</td>\n",
       "    </tr>\n",
       "    <tr>\n",
       "      <th>101</th>\n",
       "      <td>160.000000</td>\n",
       "    </tr>\n",
       "    <tr>\n",
       "      <th>102</th>\n",
       "      <td>170.000000</td>\n",
       "    </tr>\n",
       "  </tbody>\n",
       "</table>\n",
       "<p>103 rows × 1 columns</p>\n",
       "</div>"
      ],
      "text/plain": [
       "          Value\n",
       "0     54.967142\n",
       "1     48.617357\n",
       "2     56.476885\n",
       "3     65.230299\n",
       "4     47.658466\n",
       "..          ...\n",
       "98    50.051135\n",
       "99    47.654129\n",
       "100  150.000000\n",
       "101  160.000000\n",
       "102  170.000000\n",
       "\n",
       "[103 rows x 1 columns]"
      ]
     },
     "execution_count": 5,
     "metadata": {},
     "output_type": "execute_result"
    }
   ],
   "source": [
    "df"
   ]
  },
  {
   "cell_type": "code",
   "execution_count": 7,
   "id": "d3788fba-09af-4f00-ba30-7b94b46b5733",
   "metadata": {},
   "outputs": [],
   "source": [
    "# Step 2: Calculate central tendency measures before removing outliers\n",
    "mean_before = df['Value'].mean()\n",
    "median_before = df['Value'].median()\n",
    "mode_before = df['Value'].mode().iloc[0]"
   ]
  },
  {
   "cell_type": "code",
   "execution_count": 9,
   "id": "bbd32899-7d92-4552-87f7-3ea982fc82e7",
   "metadata": {},
   "outputs": [],
   "source": [
    "# Step 3: Remove outliers using z-score method\n",
    "z_scores = np.abs(stats.zscore(df['Value']))\n",
    "df_no_outliers = df[z_scores < 3]\n"
   ]
  },
  {
   "cell_type": "code",
   "execution_count": 11,
   "id": "62cf2841-292f-4c01-a705-1495b09e213b",
   "metadata": {},
   "outputs": [],
   "source": [
    "# Step 4: Calculate central tendency measures after removing outliers\n",
    "mean_after = df_no_outliers['Value'].mean()\n",
    "median_after = df_no_outliers['Value'].median()\n",
    "mode_after = df_no_outliers['Value'].mode().iloc[0]"
   ]
  },
  {
   "cell_type": "code",
   "execution_count": 13,
   "id": "b8e6ba6c-30ad-4aa0-866b-6ca9d2d52f16",
   "metadata": {},
   "outputs": [
    {
     "name": "stdout",
     "output_type": "stream",
     "text": [
      "Before Outlier Removal:\n",
      "Mean  : 52.20\n",
      "Median: 49.28\n",
      "Mode  : 23.80\n",
      "\n",
      "After Outlier Removal:\n",
      "Mean  : 48.96\n",
      "Median: 48.73\n",
      "Mode  : 23.80\n"
     ]
    },
    {
     "data": {
      "image/png": "[encoded data removed]",
      "text/plain": [
       "<Figure size 1200x500 with 2 Axes>"
      ]
     },
     "metadata": {},
     "output_type": "display_data"
    }
   ],
   "source": [
    "# print the results\n",
    "print(\"Before Outlier Removal:\")\n",
    "print(f\"Mean  : {mean_before:.2f}\")\n",
    "print(f\"Median: {median_before:.2f}\")\n",
    "print(f\"Mode  : {mode_before:.2f}\")\n",
    "\n",
    "print(\"\\nAfter Outlier Removal:\")\n",
    "print(f\"Mean  : {mean_after:.2f}\")\n",
    "print(f\"Median: {median_after:.2f}\")\n",
    "print(f\"Mode  : {mode_after:.2f}\")\n",
    "\n",
    "# Plot for visualization\n",
    "plt.figure(figsize=(12, 5))\n",
    "\n",
    "plt.subplot(1, 2, 1)\n",
    "sns.boxplot(data=df, x='Value')\n",
    "plt.title(\"With Outliers\")\n",
    "\n",
    "plt.subplot(1, 2, 2)\n",
    "sns.boxplot(data=df_no_outliers, x='Value')\n",
    "plt.title(\"Without Outliers\")\n",
    "\n",
    "plt.tight_layout()\n",
    "plt.show()"
   ]
  },
  {
   "cell_type": "code",
   "execution_count": null,
   "id": "d43b07ad-98f1-4f35-89ab-71c1ed177861",
   "metadata": {},
   "outputs": [],
   "source": []
  }
 ],
 "metadata": {
  "kernelspec": {
   "display_name": "Python 3 (ipykernel)",
   "language": "python",
   "name": "python3"
  },
  "language_info": {
   "codemirror_mode": {
    "name": "ipython",
    "version": 3
   },
   "file_extension": ".py",
   "mimetype": "text/x-python",
   "name": "python",
   "nbconvert_exporter": "python",
   "pygments_lexer": "ipython3",
   "version": "3.12.7"
  }
 },
 "nbformat": 4,
 "nbformat_minor": 5
}
