{
 "cells": [
  {
   "cell_type": "markdown",
   "id": "2679d50c-2026-4667-9cc3-e850b4ef0231",
   "metadata": {},
   "source": [
    "## Hypothesis Testing\n",
    "\n",
    "##### Write a Python program to perform a paired t-test to evaluate the effectiveness of a study program. Use two datasets: scores before and after the program.  \n",
    "   Steps   \n",
    "      a. Use scipy.stats.ttest_rel() for the t-test.  \n",
    "      b. Interpret the p-value to determine significance.\n"
   ]
  },
  {
   "cell_type": "code",
   "execution_count": 2,
   "id": "79b9ceb2-f18e-41fe-a52d-ec14f321ce1d",
   "metadata": {},
   "outputs": [],
   "source": [
    "import numpy as np\n",
    "import scipy.stats as stats"
   ]
  },
  {
   "cell_type": "code",
   "execution_count": 3,
   "id": "a03ef80c-3af9-4d87-a8a4-dc1b1f5b8d8b",
   "metadata": {},
   "outputs": [],
   "source": [
    "# Sample test scores before and after the study program\n",
    "scores_before_pgm = np.array([65, 70, 78, 80, 85, 72, 74, 79, 69, 76])\n",
    "scores_after_pgm = np.array([72, 75, 80, 85, 90, 77, 79, 83, 74, 81])"
   ]
  },
  {
   "cell_type": "code",
   "execution_count": 4,
   "id": "bab6f4cc-498a-46f5-8e32-4d4811d87f8a",
   "metadata": {},
   "outputs": [],
   "source": [
    "# Perform a paired t-test\n",
    "t_statistic, p_value = stats.ttest_rel(scores_before_pgm, scores_after_pgm)"
   ]
  },
  {
   "cell_type": "code",
   "execution_count": 5,
   "id": "d0bc409a-5488-4a2d-a5e5-ede47dc79340",
   "metadata": {},
   "outputs": [
    {
     "name": "stdout",
     "output_type": "stream",
     "text": [
      "T-statistic: -12.35\n",
      "P-value: 0.0000\n"
     ]
    }
   ],
   "source": [
    "# Display results\n",
    "print(f\"T-statistic: {t_statistic:.2f}\")\n",
    "print(f\"P-value: {p_value:.4f}\")"
   ]
  },
  {
   "cell_type": "code",
   "execution_count": 6,
   "id": "97c5e6f5-5db4-4d5a-b4a8-2fad9cfc22c2",
   "metadata": {},
   "outputs": [
    {
     "name": "stdout",
     "output_type": "stream",
     "text": [
      "The study program had a statistically significant effect on scores (reject null hypothesis).\n"
     ]
    }
   ],
   "source": [
    "# Interpretation of results\n",
    "alpha = 0.05  # Significance level\n",
    "if p_value < alpha:\n",
    "    print(\"The study program had a statistically significant effect on scores (reject null hypothesis).\")\n",
    "else:\n",
    "    print(\"No significant effect observed (fail to reject null hypothesis).\")"
   ]
  },
  {
   "cell_type": "code",
   "execution_count": null,
   "id": "61adc741-b8a9-46b4-9584-43b754cf9cc3",
   "metadata": {},
   "outputs": [],
   "source": []
  }
 ],
 "metadata": {
  "kernelspec": {
   "display_name": "Python 3 (ipykernel)",
   "language": "python",
   "name": "python3"
  },
  "language_info": {
   "codemirror_mode": {
    "name": "ipython",
    "version": 3
   },
   "file_extension": ".py",
   "mimetype": "text/x-python",
   "name": "python",
   "nbconvert_exporter": "python",
   "pygments_lexer": "ipython3",
   "version": "3.12.7"
  }
 },
 "nbformat": 4,
 "nbformat_minor": 5
}
