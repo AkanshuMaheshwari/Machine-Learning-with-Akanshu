{
 "cells": [
  {
   "cell_type": "markdown",
   "id": "d4ea6898-86fe-4d3f-9752-75723131eca4",
   "metadata": {},
   "source": [
    "## Measures of Dispersion\n",
    "\n",
    "##### Write a Python program to calculate:  \n",
    "  a. The range, interquartile range (IQR), variance, and standard deviation of a dataset.  \n",
    "  b. Visualize the spread using a boxplot.  \n",
    "   Steps  \n",
    "      a. Use numpy for dispersion measures.  \n",
    "      b. Use matplotlib for the boxplot.\n"
   ]
  },
  {
   "cell_type": "code",
   "execution_count": 2,
   "id": "b39207b0-9a83-45c5-a253-d9a7bf3373a8",
   "metadata": {},
   "outputs": [],
   "source": [
    "import numpy as np\n",
    "import matplotlib.pyplot as plt"
   ]
  },
  {
   "cell_type": "code",
   "execution_count": 3,
   "id": "4dcd3c04-ed7b-4d42-b6bb-33b26730e7b8",
   "metadata": {},
   "outputs": [],
   "source": [
    "# Sample dataset\n",
    "data = [12, 15, 14, 10, 18, 21, 20, 19, 25, 30, 29, 28, 50]  # Includes an outlier"
   ]
  },
  {
   "cell_type": "code",
   "execution_count": 4,
   "id": "27e196bf-e317-4776-b09a-b270a180b3cc",
   "metadata": {},
   "outputs": [
    {
     "data": {
      "text/plain": [
       "[12, 15, 14, 10, 18, 21, 20, 19, 25, 30, 29, 28, 50]"
      ]
     },
     "execution_count": 4,
     "metadata": {},
     "output_type": "execute_result"
    }
   ],
   "source": [
    "data"
   ]
  },
  {
   "cell_type": "code",
   "execution_count": 5,
   "id": "534cf2ec-fb67-4290-bf8d-507c6528a8bf",
   "metadata": {},
   "outputs": [],
   "source": [
    "# Calculate dispersion measures\n",
    "data_range = np.max(data) - np.min(data)\n",
    "iqr1 = np.percentile(data, 25) \n",
    "iqr2 = np.percentile(data, 75)\n",
    "IQR = iqr2 - iqr1\n",
    "variance = np.var(data, ddof=1)  # sample variance\n",
    "std_dev = np.std(data, ddof=1)   # sample standard deviation"
   ]
  },
  {
   "cell_type": "code",
   "execution_count": 6,
   "id": "64f1e350-6a35-415c-a74f-7bb533e8ca0d",
   "metadata": {},
   "outputs": [
    {
     "name": "stdout",
     "output_type": "stream",
     "text": [
      "Range: 40\n",
      "Interquartile Range (IQR): 13.0\n",
      "Variance: 110.59\n",
      "Standard Deviation: 10.52\n"
     ]
    }
   ],
   "source": [
    "# Display results\n",
    "print(f\"Range: {data_range}\")\n",
    "print(f\"Interquartile Range (IQR): {IQR}\")\n",
    "print(f\"Variance: {variance:.2f}\")\n",
    "print(f\"Standard Deviation: {std_dev:.2f}\")"
   ]
  },
  {
   "cell_type": "code",
   "execution_count": 7,
   "id": "e9c0aa3e-b3a1-40f4-999f-78d9dbd1bf4e",
   "metadata": {},
   "outputs": [
    {
     "data": {
      "image/png": "[encoded data removed]",
      "text/plain": [
       "<Figure size 700x400 with 1 Axes>"
      ]
     },
     "metadata": {},
     "output_type": "display_data"
    }
   ],
   "source": [
    "# Visualize spread using a boxplot\n",
    "plt.figure(figsize=(7, 4))\n",
    "plt.boxplot(data, vert=False, patch_artist=True, boxprops=dict(facecolor=\"lightblue\"),           \n",
    "           medianprops=dict(color='green'),\n",
    "            whiskerprops=dict(color='blue'),\n",
    "            capprops=dict(color='red'))\n",
    "plt.xlabel(\"Values\")\n",
    "plt.title(\"Boxplot of the Dataset\")\n",
    "plt.grid(True)\n",
    "plt.tight_layout()\n",
    "plt.show()"
   ]
  },
  {
   "cell_type": "code",
   "execution_count": null,
   "id": "d7d29e2c-afb7-45e1-b854-f172bbcd428e",
   "metadata": {},
   "outputs": [],
   "source": []
  }
 ],
 "metadata": {
  "kernelspec": {
   "display_name": "Python 3 (ipykernel)",
   "language": "python",
   "name": "python3"
  },
  "language_info": {
   "codemirror_mode": {
    "name": "ipython",
    "version": 3
   },
   "file_extension": ".py",
   "mimetype": "text/x-python",
   "name": "python",
   "nbconvert_exporter": "python",
   "pygments_lexer": "ipython3",
   "version": "3.12.7"
  }
 },
 "nbformat": 4,
 "nbformat_minor": 5
}
