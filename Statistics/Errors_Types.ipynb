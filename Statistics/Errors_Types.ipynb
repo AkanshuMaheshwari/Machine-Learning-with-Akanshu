{
 "cells": [
  {
   "cell_type": "markdown",
   "id": "b5642927-4b99-4f68-8a48-efbcdba5e6d8",
   "metadata": {},
   "source": [
    "## Types of Errors\n",
    "\n",
    "##### Write a Python function to simulate a hypothesis test with the following:  \n",
    "  a. A scenario that results in a Type I error (rejecting a true null hypothesis).  \n",
    "  b. A scenario that results in a Type II error (failing to reject a false null hypothesis).  \n",
    "  Steps \n",
    "      a. Use synthetic data and statistical tests.  \n",
    "      b. Highlight conditions leading to each error type.  \n"
   ]
  },
  {
   "cell_type": "code",
   "execution_count": 2,
   "id": "fa94b59c-2ebc-491e-8749-7eb29914bf7d",
   "metadata": {},
   "outputs": [],
   "source": [
    "import numpy as np\n",
    "from scipy import stats"
   ]
  },
  {
   "cell_type": "code",
   "execution_count": 3,
   "id": "f20fe935-3c17-4163-b7cd-c23317134b05",
   "metadata": {},
   "outputs": [
    {
     "name": "stdout",
     "output_type": "stream",
     "text": [
      "Correct Decision: Failing to reject a true null hypothesis\n",
      "Correct Decision: Rejecting a false null hypothesis\n"
     ]
    }
   ],
   "source": [
    "def hypothesis_test_simulation():\n",
    "    np.random.seed(42)\n",
    "    alpha = 0.05  # Significance level\n",
    "\n",
    "    # Generate synthetic data\n",
    "    group_A = np.random.normal(loc=50, scale=5, size=30)  # True mean = 50\n",
    "    group_B = np.random.normal(loc=50, scale=5, size=30)  # Same mean (null is true)\n",
    "    group_C = np.random.normal(loc=55, scale=5, size=30)  # Different mean (null is false)\n",
    "\n",
    "    # Scenario 1: Type I error (rejecting a true null hypothesis)\n",
    "    t_statistic_A_B, p_value_A_B = stats.ttest_ind(group_A, group_B)\n",
    "    if p_value_A_B < alpha:\n",
    "        print(\"Type I Error: Incorrectly rejecting a true null hypothesis (groups A and B)\")\n",
    "    else:\n",
    "        print(\"Correct Decision: Failing to reject a true null hypothesis\")\n",
    "\n",
    "        # Scenario 2: Type II error (failing to reject a false null hypothesis)\n",
    "    t_statistic_A_C, p_value_A_C = stats.ttest_ind(group_A, group_C)\n",
    "    if p_value_A_C >= alpha:\n",
    "        print(\"Type II Error: Failing to reject a false null hypothesis (groups A and C)\")\n",
    "    else:\n",
    "        print(\"Correct Decision: Rejecting a false null hypothesis\")\n",
    "\n",
    "# Run the simulation\n",
    "hypothesis_test_simulation()"
   ]
  },
  {
   "cell_type": "code",
   "execution_count": null,
   "id": "aa171710-1da4-48dc-b599-433cda75be21",
   "metadata": {},
   "outputs": [],
   "source": []
  }
 ],
 "metadata": {
  "kernelspec": {
   "display_name": "Python 3 (ipykernel)",
   "language": "python",
   "name": "python3"
  },
  "language_info": {
   "codemirror_mode": {
    "name": "ipython",
    "version": 3
   },
   "file_extension": ".py",
   "mimetype": "text/x-python",
   "name": "python",
   "nbconvert_exporter": "python",
   "pygments_lexer": "ipython3",
   "version": "3.12.7"
  }
 },
 "nbformat": 4,
 "nbformat_minor": 5
}
